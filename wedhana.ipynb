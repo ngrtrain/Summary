{
 "cells": [
  {
   "cell_type": "markdown",
   "metadata": {},
   "source": [
    "### Summary Association Rule"
   ]
  },
  {
   "cell_type": "markdown",
   "metadata": {},
   "source": [
    "Associative classification (AC) adalah cabang dalam data mining yang memanfaatkan metode association rule discovery dalam masalah klasifikasi. Beberapa studi memberikan bukti bahwa teknik AC dapat memberikan model klasifikasi yang lebih akurat dibandingkan dengan teknik-teknik klasifikasi tradisional seperti decision tree, rule induction, dan pendekatan probalistik\n",
    "\n",
    "Association rules adalah salah satu task data mining deskriptif yang bertujan untuk menemukan aturan asosiasif antara item-item data. Langkah utama yang perlu dalam association rules adalah mengetahui seberapa sering kombinasi item muncul dalam database, yang disebut sebagai frequent patterns."
   ]
  },
  {
   "cell_type": "markdown",
   "metadata": {},
   "source": [
    "Adapun Beberapa Algoritma untuk melakukan associative rules:\n",
    "1.  Apriori Algorithm\n",
    "2.  Eclat Algorithm\n",
    "3.  FP-Growth Algorithm"
   ]
  },
  {
   "cell_type": "markdown",
   "metadata": {},
   "source": [
    "### Algoritma Apriori\n",
    "\n",
    "Algoritma Apriori adalah salah satu algoritma pada data mining untuk mencari frequent item/itemset pada transaksional database. Algoritma apriori pertama kali diperkenalkan oleh R.Agarwal dan R Srikant untuk mencari frequent tertinggi dari suatu database. \n",
    "\n",
    "\n",
    "Algoritma apriori banyak digunakan pada data transaksi atau biasa disebut market basket, misalnya sebuah swalayan memiliki market basket, dengan adanya algoritma apriori, pemilik swalayan dapat mengetahui pola pembelian seorang konsumen. \n",
    "\n",
    "\n",
    "Atau algoritma apriori juga bisa digunakan oleh restoran cepat saji dalam menentukan paket menu makanan atau minuman yang ada di restoran mereka berdasakan pola beli konsumen."
   ]
  },
  {
   "cell_type": "markdown",
   "metadata": {},
   "source": [
    "### Algoritma Eclat\n",
    "\n",
    "Algoritma Eclat ( Equivalence Class Transformation) adalah sebuah program yang digunakan untuk menemukan set item yang sering (Zaki et al. 1997)4, algoritma ini menggunakan yang melakukan pencarian depth first pada kisi bagian dan menentukan dukungan set item dengan memotongkan daftar transaksi. Versi saat ini dari program ini hanya dapat menemukan set item yang sering. Algoritma ini tidak mendukung pengelompokan item / clustering (Zaki et al, 1997.)4, tetapi algoritma ini dapat mendukung diffset (Zaki dan Gouda 2003)5 dan beberapa varian algoritma lainnya."
   ]
  },
  {
   "cell_type": "markdown",
   "metadata": {},
   "source": [
    "### FP-Growth Algorithm\n",
    "\n",
    "FP-Growth merupakan pengembangan dari algoritma Apriori. Pada algoritma FP-Growth, kekurangan dari algoritma Apriori diperbaiki dengan menghilangkan candidate generation, karena dalam FP- Growth digunakan konsep pembangunan pohon, yang biasa disebut FP-Tree dalam pencarian frequent itemset. Selain itu, scanning database hanya dilakukan sebanyak dua kali. Sehingga membuat algoritma FP-Growth memiliki performa yang lebih cepat jika dibandingkan dengan algoritma Apriori\n",
    "\n",
    "### FP - Growth\n",
    "\n",
    "FP-growth adalah versi perbaikan dari Algoritma Apriori yang banyak digunakan untuk penambangan pola yang sering (AKA Association Rule Mining). Ini digunakan sebagai proses analitis yang menemukan pola atau asosiasi yang sering dari kumpulan data. Misalnya, data transaksi toko kelontong mungkin memiliki pola sering bahwa orang biasanya membeli keripik dan bir bersama-sama. Algoritma Apriori menghasilkan pola frequent dengan menghasilkan itemset dan menemukan itemset paling sering melewati ambang batas “jumlah dukungan minimal”. "
   ]
  },
  {
   "cell_type": "markdown",
   "metadata": {},
   "source": [
    "### Daftar Pustaka\n",
    "\n",
    "Aprianti, W., Hafizd, K. A., & Rizani, M. R. (2017). Implementasi Association Rules dengan Algoritma Apriori pada Dataset Kemiskinan. 147.\n",
    "\n",
    "Karyawati, E., & Winarko, E. (2011). Class Association Rule Pada Metode Associative, 17.\n",
    "\n",
    "Samodra, J. E. (2015). IMPLEMENTASI ALGORITMA ECLAT UNTUK FREQUENT PATTERN MINING. 3.\n",
    "\n",
    "Syukra, I., Hidayat, A., & Fauzi, M. Z. (2019). Implementation of K-Medoids and FP-Growth Algorithms for Grouping and Product Offering Recommendations. Indonesian Journal of Artificial Intelligence and Data Mining, 110.\n",
    "\n",
    "Toward Data Science. (2020, Maret). Retrieved from Understand and Build FP-Growth Algorithm in Python: https://towardsdatascience.com/understand-and-build-fp-growth-algorithm-in-python-d8b989bab342\n",
    "\n"
   ]
  },
  {
   "cell_type": "markdown",
   "metadata": {},
   "source": []
  }
 ],
 "metadata": {
  "kernelspec": {
   "display_name": "Python 3.9.12 ('base')",
   "language": "python",
   "name": "python3"
  },
  "language_info": {
   "codemirror_mode": {
    "name": "ipython",
    "version": 3
   },
   "file_extension": ".py",
   "mimetype": "text/x-python",
   "name": "python",
   "nbconvert_exporter": "python",
   "pygments_lexer": "ipython3",
   "version": "3.9.12"
  },
  "orig_nbformat": 4,
  "vscode": {
   "interpreter": {
    "hash": "2a6cd927e17fa5e8942290f0e1c4c78044dc0e75a2e41e89236995a02c1b19f1"
   }
  }
 },
 "nbformat": 4,
 "nbformat_minor": 2
}
