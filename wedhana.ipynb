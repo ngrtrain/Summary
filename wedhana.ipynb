{
 "cells": [
  {
   "cell_type": "markdown",
   "metadata": {},
   "source": [
    "### Suummary"
   ]
  },
  {
   "cell_type": "markdown",
   "metadata": {},
   "source": [
    "Associative classification (AC) adalah cabang dalam data mining yang memanfaatkan metode association rule discovery dalam masalah klasifikasi. Beberapa studi memberikan bukti bahwa teknik AC dapat memberikan model klasifikasi yang lebih akurat dibandingkan dengan teknik-teknik klasifikasi tradisional seperti decision tree, rule induction, dan pendekatan probalistik"
   ]
  },
  {
   "cell_type": "markdown",
   "metadata": {},
   "source": [
    "Adapun Beberapa Algoritma untuk melakukan associative rules:\n",
    "1.  Apriori Algorithm\n",
    "2.  Eclat Algorithm\n",
    "3.  FP-Growth Algorithm"
   ]
  },
  {
   "cell_type": "markdown",
   "metadata": {},
   "source": [
    "### Algoritma Apriori\n",
    "\n",
    "Algoritma Apriori adalah salah satu algoritma pada data mining untuk mencari frequent item/itemset pada transaksional database. Algoritma apriori pertama kali diperkenalkan oleh R.Agarwal dan R Srikant untuk mencari frequent tertinggi dari suatu database. \n",
    "\n",
    "\n",
    "Algoritma apriori banyak digunakan pada data transaksi atau biasa disebut market basket, misalnya sebuah swalayan memiliki market basket, dengan adanya algoritma apriori, pemilik swalayan dapat mengetahui pola pembelian seorang konsumen. \n",
    "\n",
    "\n",
    "Atau algoritma apriori juga bisa digunakan oleh restoran cepat saji dalam menentukan paket menu makanan atau minuman yang ada di restoran mereka berdasakan pola beli konsumen."
   ]
  },
  {
   "cell_type": "markdown",
   "metadata": {},
   "source": []
  }
 ],
 "metadata": {
  "language_info": {
   "name": "python"
  },
  "orig_nbformat": 4
 },
 "nbformat": 4,
 "nbformat_minor": 2
}
